{
 "cells": [
  {
   "cell_type": "code",
   "execution_count": 84,
   "id": "538a6fd0",
   "metadata": {},
   "outputs": [
    {
     "name": "stdout",
     "output_type": "stream",
     "text": [
      "[{'name': 'systemd', 'memory_percent': 0.06642722010476275, 'cpu_percent': 0.0, 'pid': 1}, {'name': 'kthreadd', 'memory_percent': 0.0, 'cpu_percent': 0.0, 'pid': 2}, {'name': 'rcu_gp', 'memory_percent': 0.0, 'cpu_percent': 0.0, 'pid': 3}, {'name': 'rcu_par_gp', 'memory_percent': 0.0, 'cpu_percent': 0.0, 'pid': 4}, {'name': 'kworker/0:0H-events_highpri', 'memory_percent': 0.0, 'cpu_percent': 0.0, 'pid': 6}, {'name': 'mm_percpu_wq', 'memory_percent': 0.0, 'cpu_percent': 0.0, 'pid': 8}, {'name': 'rcu_tasks_kthre', 'memory_percent': 0.0, 'cpu_percent': 0.0, 'pid': 9}, {'name': 'rcu_tasks_rude_', 'memory_percent': 0.0, 'cpu_percent': 0.0, 'pid': 10}, {'name': 'rcu_tasks_trace', 'memory_percent': 0.0, 'cpu_percent': 0.0, 'pid': 11}, {'name': 'ksoftirqd/0', 'memory_percent': 0.0, 'cpu_percent': 0.7, 'pid': 12}, {'name': 'rcu_preempt', 'memory_percent': 0.0, 'cpu_percent': 0.5, 'pid': 13}, {'name': 'rcub/0', 'memory_percent': 0.0, 'cpu_percent': 0.0, 'pid': 14}, {'name': 'rcuc/0', 'memory_percent': 0.0, 'cpu_percent': 0.0, 'pid': 15}, {'name': 'migration/0', 'memory_percent': 0.0, 'cpu_percent': 0.0, 'pid': 16}, {'name': 'idle_inject/0', 'memory_percent': 0.0, 'cpu_percent': 0.0, 'pid': 17}, {'name': 'cpuhp/0', 'memory_percent': 0.0, 'cpu_percent': 0.0, 'pid': 19}, {'name': 'cpuhp/1', 'memory_percent': 0.0, 'cpu_percent': 0.0, 'pid': 20}, {'name': 'idle_inject/1', 'memory_percent': 0.0, 'cpu_percent': 0.0, 'pid': 21}, {'name': 'migration/1', 'memory_percent': 0.0, 'cpu_percent': 0.0, 'pid': 22}, {'name': 'rcuc/1', 'memory_percent': 0.0, 'cpu_percent': 0.0, 'pid': 23}, {'name': 'ksoftirqd/1', 'memory_percent': 0.0, 'cpu_percent': 0.1, 'pid': 24}, {'name': 'kworker/1:0H-events_highpri', 'memory_percent': 0.0, 'cpu_percent': 0.0, 'pid': 26}, {'name': 'cpuhp/2', 'memory_percent': 0.0, 'cpu_percent': 0.0, 'pid': 27}, {'name': 'idle_inject/2', 'memory_percent': 0.0, 'cpu_percent': 0.0, 'pid': 28}, {'name': 'migration/2', 'memory_percent': 0.0, 'cpu_percent': 0.0, 'pid': 29}, {'name': 'rcuc/2', 'memory_percent': 0.0, 'cpu_percent': 0.0, 'pid': 30}, {'name': 'ksoftirqd/2', 'memory_percent': 0.0, 'cpu_percent': 0.1, 'pid': 31}, {'name': 'kworker/2:0H-events_highpri', 'memory_percent': 0.0, 'cpu_percent': 0.0, 'pid': 33}, {'name': 'cpuhp/3', 'memory_percent': 0.0, 'cpu_percent': 0.0, 'pid': 34}, {'name': 'idle_inject/3', 'memory_percent': 0.0, 'cpu_percent': 0.0, 'pid': 35}, {'name': 'migration/3', 'memory_percent': 0.0, 'cpu_percent': 0.0, 'pid': 36}, {'name': 'rcuc/3', 'memory_percent': 0.0, 'cpu_percent': 0.0, 'pid': 37}, {'name': 'ksoftirqd/3', 'memory_percent': 0.0, 'cpu_percent': 0.1, 'pid': 38}, {'name': 'kworker/3:0H-events_highpri', 'memory_percent': 0.0, 'cpu_percent': 0.0, 'pid': 40}, {'name': 'cpuhp/4', 'memory_percent': 0.0, 'cpu_percent': 0.0, 'pid': 41}, {'name': 'idle_inject/4', 'memory_percent': 0.0, 'cpu_percent': 0.0, 'pid': 42}, {'name': 'migration/4', 'memory_percent': 0.0, 'cpu_percent': 0.0, 'pid': 43}, {'name': 'rcuc/4', 'memory_percent': 0.0, 'cpu_percent': 0.0, 'pid': 44}, {'name': 'ksoftirqd/4', 'memory_percent': 0.0, 'cpu_percent': 0.1, 'pid': 45}, {'name': 'kworker/4:0H-events_highpri', 'memory_percent': 0.0, 'cpu_percent': 0.0, 'pid': 47}, {'name': 'cpuhp/5', 'memory_percent': 0.0, 'cpu_percent': 0.0, 'pid': 48}, {'name': 'idle_inject/5', 'memory_percent': 0.0, 'cpu_percent': 0.0, 'pid': 49}, {'name': 'migration/5', 'memory_percent': 0.0, 'cpu_percent': 0.0, 'pid': 50}, {'name': 'rcuc/5', 'memory_percent': 0.0, 'cpu_percent': 0.0, 'pid': 51}, {'name': 'ksoftirqd/5', 'memory_percent': 0.0, 'cpu_percent': 0.0, 'pid': 52}, {'name': 'kworker/5:0H-events_highpri', 'memory_percent': 0.0, 'cpu_percent': 0.0, 'pid': 54}, {'name': 'cpuhp/6', 'memory_percent': 0.0, 'cpu_percent': 0.0, 'pid': 55}, {'name': 'idle_inject/6', 'memory_percent': 0.0, 'cpu_percent': 0.0, 'pid': 56}, {'name': 'migration/6', 'memory_percent': 0.0, 'cpu_percent': 0.0, 'pid': 57}, {'name': 'rcuc/6', 'memory_percent': 0.0, 'cpu_percent': 0.0, 'pid': 58}, {'name': 'ksoftirqd/6', 'memory_percent': 0.0, 'cpu_percent': 0.1, 'pid': 59}, {'name': 'kworker/6:0H-events_highpri', 'memory_percent': 0.0, 'cpu_percent': 0.0, 'pid': 61}, {'name': 'cpuhp/7', 'memory_percent': 0.0, 'cpu_percent': 0.0, 'pid': 62}, {'name': 'idle_inject/7', 'memory_percent': 0.0, 'cpu_percent': 0.0, 'pid': 63}, {'name': 'migration/7', 'memory_percent': 0.0, 'cpu_percent': 0.0, 'pid': 64}, {'name': 'rcuc/7', 'memory_percent': 0.0, 'cpu_percent': 0.0, 'pid': 65}, {'name': 'ksoftirqd/7', 'memory_percent': 0.0, 'cpu_percent': 0.0, 'pid': 66}, {'name': 'kworker/7:0H-events_highpri', 'memory_percent': 0.0, 'cpu_percent': 0.0, 'pid': 68}, {'name': 'cpuhp/8', 'memory_percent': 0.0, 'cpu_percent': 0.0, 'pid': 69}, {'name': 'idle_inject/8', 'memory_percent': 0.0, 'cpu_percent': 0.0, 'pid': 70}, {'name': 'migration/8', 'memory_percent': 0.0, 'cpu_percent': 0.0, 'pid': 71}, {'name': 'rcuc/8', 'memory_percent': 0.0, 'cpu_percent': 0.0, 'pid': 72}, {'name': 'ksoftirqd/8', 'memory_percent': 0.0, 'cpu_percent': 0.1, 'pid': 73}, {'name': 'kworker/8:0H-events_highpri', 'memory_percent': 0.0, 'cpu_percent': 0.0, 'pid': 75}, {'name': 'cpuhp/9', 'memory_percent': 0.0, 'cpu_percent': 0.0, 'pid': 76}, {'name': 'idle_inject/9', 'memory_percent': 0.0, 'cpu_percent': 0.0, 'pid': 77}, {'name': 'migration/9', 'memory_percent': 0.0, 'cpu_percent': 0.0, 'pid': 78}, {'name': 'rcuc/9', 'memory_percent': 0.0, 'cpu_percent': 0.0, 'pid': 79}, {'name': 'ksoftirqd/9', 'memory_percent': 0.0, 'cpu_percent': 0.0, 'pid': 80}, {'name': 'kworker/9:0H-events_highpri', 'memory_percent': 0.0, 'cpu_percent': 0.0, 'pid': 82}, {'name': 'cpuhp/10', 'memory_percent': 0.0, 'cpu_percent': 0.0, 'pid': 83}, {'name': 'idle_inject/10', 'memory_percent': 0.0, 'cpu_percent': 0.0, 'pid': 84}, {'name': 'migration/10', 'memory_percent': 0.0, 'cpu_percent': 0.0, 'pid': 85}, {'name': 'rcuc/10', 'memory_percent': 0.0, 'cpu_percent': 0.0, 'pid': 86}, {'name': 'ksoftirqd/10', 'memory_percent': 0.0, 'cpu_percent': 0.1, 'pid': 87}, {'name': 'kworker/10:0H-events_highpri', 'memory_percent': 0.0, 'cpu_percent': 0.0, 'pid': 89}, {'name': 'cpuhp/11', 'memory_percent': 0.0, 'cpu_percent': 0.0, 'pid': 90}, {'name': 'idle_inject/11', 'memory_percent': 0.0, 'cpu_percent': 0.0, 'pid': 91}, {'name': 'migration/11', 'memory_percent': 0.0, 'cpu_percent': 0.0, 'pid': 92}, {'name': 'rcuc/11', 'memory_percent': 0.0, 'cpu_percent': 0.0, 'pid': 93}, {'name': 'ksoftirqd/11', 'memory_percent': 0.0, 'cpu_percent': 0.0, 'pid': 94}, {'name': 'kworker/11:0H-events_highpri', 'memory_percent': 0.0, 'cpu_percent': 0.0, 'pid': 96}, {'name': 'kdevtmpfs', 'memory_percent': 0.0, 'cpu_percent': 0.0, 'pid': 97}, {'name': 'netns', 'memory_percent': 0.0, 'cpu_percent': 0.0, 'pid': 98}, {'name': 'inet_frag_wq', 'memory_percent': 0.0, 'cpu_percent': 0.0, 'pid': 99}, {'name': 'kauditd', 'memory_percent': 0.0, 'cpu_percent': 0.0, 'pid': 100}, {'name': 'khungtaskd', 'memory_percent': 0.0, 'cpu_percent': 0.0, 'pid': 101}, {'name': 'oom_reaper', 'memory_percent': 0.0, 'cpu_percent': 0.0, 'pid': 102}, {'name': 'writeback', 'memory_percent': 0.0, 'cpu_percent': 0.0, 'pid': 103}, {'name': 'kcompactd0', 'memory_percent': 0.0, 'cpu_percent': 0.0, 'pid': 104}, {'name': 'ksmd', 'memory_percent': 0.0, 'cpu_percent': 0.0, 'pid': 105}, {'name': 'khugepaged', 'memory_percent': 0.0, 'cpu_percent': 0.0, 'pid': 106}, {'name': 'kintegrityd', 'memory_percent': 0.0, 'cpu_percent': 0.0, 'pid': 126}, {'name': 'kblockd', 'memory_percent': 0.0, 'cpu_percent': 0.0, 'pid': 127}, {'name': 'blkcg_punt_bio', 'memory_percent': 0.0, 'cpu_percent': 0.0, 'pid': 128}, {'name': 'ata_sff', 'memory_percent': 0.0, 'cpu_percent': 0.0, 'pid': 129}, {'name': 'edac-poller', 'memory_percent': 0.0, 'cpu_percent': 0.0, 'pid': 130}, {'name': 'devfreq_wq', 'memory_percent': 0.0, 'cpu_percent': 0.0, 'pid': 131}, {'name': 'watchdogd', 'memory_percent': 0.0, 'cpu_percent': 0.0, 'pid': 132}, {'name': 'kworker/2:1H-kblockd', 'memory_percent': 0.0, 'cpu_percent': 0.0, 'pid': 135}, {'name': 'irq/25-AMD-Vi', 'memory_percent': 0.0, 'cpu_percent': 0.0, 'pid': 136}, {'name': 'kswapd0', 'memory_percent': 0.0, 'cpu_percent': 0.0, 'pid': 138}, {'name': 'kthrotld', 'memory_percent': 0.0, 'cpu_percent': 0.0, 'pid': 140}, {'name': 'acpi_thermal_pm', 'memory_percent': 0.0, 'cpu_percent': 0.0, 'pid': 149}, {'name': 'amd_iommu_v2', 'memory_percent': 0.0, 'cpu_percent': 0.0, 'pid': 150}, {'name': 'nvme-wq', 'memory_percent': 0.0, 'cpu_percent': 0.0, 'pid': 151}, {'name': 'nvme-reset-wq', 'memory_percent': 0.0, 'cpu_percent': 0.0, 'pid': 152}, {'name': 'nvme-delete-wq', 'memory_percent': 0.0, 'cpu_percent': 0.0, 'pid': 153}, {'name': 'mld', 'memory_percent': 0.0, 'cpu_percent': 0.0, 'pid': 158}, {'name': 'ipv6_addrconf', 'memory_percent': 0.0, 'cpu_percent': 0.0, 'pid': 159}, {'name': 'kworker/10:1H-kblockd', 'memory_percent': 0.0, 'cpu_percent': 0.0, 'pid': 160}, {'name': 'kstrp', 'memory_percent': 0.0, 'cpu_percent': 0.0, 'pid': 171}, {'name': 'zswap1', 'memory_percent': 0.0, 'cpu_percent': 0.0, 'pid': 176}, {'name': 'zswap1', 'memory_percent': 0.0, 'cpu_percent': 0.0, 'pid': 177}, {'name': 'zswap-shrink', 'memory_percent': 0.0, 'cpu_percent': 0.0, 'pid': 178}, {'name': 'charger_manager', 'memory_percent': 0.0, 'cpu_percent': 0.0, 'pid': 180}, {'name': 'kworker/4:1H-kblockd', 'memory_percent': 0.0, 'cpu_percent': 0.0, 'pid': 188}, {'name': 'kworker/6:1H-kblockd', 'memory_percent': 0.0, 'cpu_percent': 0.0, 'pid': 202}, {'name': 'kworker/0:1H-kblockd', 'memory_percent': 0.0, 'cpu_percent': 0.0, 'pid': 204}, {'name': 'gfx', 'memory_percent': 0.0, 'cpu_percent': 0.8, 'pid': 206}, {'name': 'comp_1.0.0', 'memory_percent': 0.0, 'cpu_percent': 0.0, 'pid': 207}, {'name': 'comp_1.1.0', 'memory_percent': 0.0, 'cpu_percent': 0.0, 'pid': 208}, {'name': 'comp_1.2.0', 'memory_percent': 0.0, 'cpu_percent': 0.0, 'pid': 209}, {'name': 'comp_1.3.0', 'memory_percent': 0.0, 'cpu_percent': 0.0, 'pid': 210}, {'name': 'comp_1.0.1', 'memory_percent': 0.0, 'cpu_percent': 0.0, 'pid': 211}, {'name': 'comp_1.1.1', 'memory_percent': 0.0, 'cpu_percent': 0.0, 'pid': 212}, {'name': 'comp_1.2.1', 'memory_percent': 0.0, 'cpu_percent': 0.0, 'pid': 213}, {'name': 'comp_1.3.1', 'memory_percent': 0.0, 'cpu_percent': 0.0, 'pid': 214}, {'name': 'sdma0', 'memory_percent': 0.0, 'cpu_percent': 0.0, 'pid': 215}, {'name': 'vcn_dec', 'memory_percent': 0.0, 'cpu_percent': 0.0, 'pid': 216}, {'name': 'vcn_enc0', 'memory_percent': 0.0, 'cpu_percent': 0.0, 'pid': 217}, {'name': 'vcn_enc1', 'memory_percent': 0.0, 'cpu_percent': 0.0, 'pid': 218}, {'name': 'jpeg_dec', 'memory_percent': 0.0, 'cpu_percent': 0.0, 'pid': 219}, {'name': 'kworker/7:1H-kblockd', 'memory_percent': 0.0, 'cpu_percent': 0.0, 'pid': 231}, {'name': 'nv_queue', 'memory_percent': 0.0, 'cpu_percent': 0.0, 'pid': 232}, {'name': 'nv_queue', 'memory_percent': 0.0, 'cpu_percent': 0.0, 'pid': 233}, {'name': 'jbd2/nvme0n1p3-', 'memory_percent': 0.0, 'cpu_percent': 0.0, 'pid': 237}, {'name': 'ext4-rsv-conver', 'memory_percent': 0.0, 'cpu_percent': 0.0, 'pid': 238}, {'name': 'kworker/5:1H-kblockd', 'memory_percent': 0.0, 'cpu_percent': 0.0, 'pid': 245}, {'name': 'card0-crtc0', 'memory_percent': 0.0, 'cpu_percent': 0.0, 'pid': 249}, {'name': 'card0-crtc1', 'memory_percent': 0.0, 'cpu_percent': 0.0, 'pid': 250}, {'name': 'card0-crtc2', 'memory_percent': 0.0, 'cpu_percent': 0.0, 'pid': 251}, {'name': 'card0-crtc3', 'memory_percent': 0.0, 'cpu_percent': 0.0, 'pid': 252}, {'name': 'kworker/3:1H-kblockd', 'memory_percent': 0.0, 'cpu_percent': 0.0, 'pid': 253}, {'name': 'kworker/8:1H-kblockd', 'memory_percent': 0.0, 'cpu_percent': 0.0, 'pid': 255}, {'name': 'kworker/11:1H-kblockd', 'memory_percent': 0.0, 'cpu_percent': 0.0, 'pid': 299}, {'name': 'haveged', 'memory_percent': 0.030441570622282164, 'cpu_percent': 0.0, 'pid': 300}, {'name': 'systemd-journald', 'memory_percent': 0.4003180978824925, 'cpu_percent': 0.0, 'pid': 302}, {'name': 'systemd-udevd', 'memory_percent': 0.049388078653694205, 'cpu_percent': 0.0, 'pid': 303}, {'name': 'kworker/1:1H-kblockd', 'memory_percent': 0.0, 'cpu_percent': 0.0, 'pid': 322}, {'name': 'irq/71-SYNA32A5', 'memory_percent': 0.0, 'cpu_percent': 1.5, 'pid': 350}, {'name': 'tpm_dev_wq', 'memory_percent': 0.0, 'cpu_percent': 0.0, 'pid': 356}, {'name': 'sdhci', 'memory_percent': 0.0, 'cpu_percent': 0.0, 'pid': 364}, {'name': 'kworker/9:1H-kblockd', 'memory_percent': 0.0, 'cpu_percent': 0.0, 'pid': 366}, {'name': 'nvidia-modeset/', 'memory_percent': 0.0, 'cpu_percent': 0.0, 'pid': 367}, {'name': 'nvidia-modeset/', 'memory_percent': 0.0, 'cpu_percent': 0.0, 'pid': 368}, {'name': 'cfg80211', 'memory_percent': 0.0, 'cpu_percent': 0.0, 'pid': 373}, {'name': 'cryptd', 'memory_percent': 0.0, 'cpu_percent': 0.0, 'pid': 374}, {'name': 'irq/102-iwlwifi', 'memory_percent': 0.0, 'cpu_percent': 0.0, 'pid': 392}, {'name': 'irq/103-iwlwifi', 'memory_percent': 0.0, 'cpu_percent': 0.0, 'pid': 394}, {'name': 'irq/104-iwlwifi', 'memory_percent': 0.0, 'cpu_percent': 0.0, 'pid': 395}, {'name': 'irq/105-iwlwifi', 'memory_percent': 0.0, 'cpu_percent': 0.0, 'pid': 396}, {'name': 'irq/106-iwlwifi', 'memory_percent': 0.0, 'cpu_percent': 0.0, 'pid': 397}, {'name': 'irq/107-iwlwifi', 'memory_percent': 0.0, 'cpu_percent': 0.0, 'pid': 398}, {'name': 'irq/108-iwlwifi', 'memory_percent': 0.0, 'cpu_percent': 0.0, 'pid': 399}, {'name': 'irq/109-iwlwifi', 'memory_percent': 0.0, 'cpu_percent': 0.0, 'pid': 400}, {'name': 'irq/110-iwlwifi', 'memory_percent': 0.0, 'cpu_percent': 0.0, 'pid': 402}, {'name': 'irq/111-iwlwifi', 'memory_percent': 0.0, 'cpu_percent': 0.0, 'pid': 403}, {'name': 'irq/112-iwlwifi', 'memory_percent': 0.0, 'cpu_percent': 0.0, 'pid': 404}, {'name': 'irq/113-iwlwifi', 'memory_percent': 0.0, 'cpu_percent': 0.0, 'pid': 405}, {'name': 'irq/114-iwlwifi', 'memory_percent': 0.0, 'cpu_percent': 0.0, 'pid': 406}, {'name': 'irq/115-iwlwifi', 'memory_percent': 0.0, 'cpu_percent': 0.0, 'pid': 407}, {'name': 'avahi-daemon', 'memory_percent': 0.028864814249198206, 'cpu_percent': 0.0, 'pid': 512}, {'name': 'crond', 'memory_percent': 0.016937415233450225, 'cpu_percent': 0.0, 'pid': 513}, {'name': 'dbus-daemon', 'memory_percent': 0.03606194414569432, 'cpu_percent': 0.0, 'pid': 514}, {'name': 'NetworkManager', 'memory_percent': 0.11914683238545692, 'cpu_percent': 0.0, 'pid': 515}, {'name': 'systemd-logind', 'memory_percent': 0.04061419238411413, 'cpu_percent': 0.0, 'pid': 517}, {'name': 'systemd-machined', 'memory_percent': 0.039317183109480555, 'cpu_percent': 0.0, 'pid': 518}, {'name': 'avahi-daemon', 'memory_percent': 0.004348795803183166, 'cpu_percent': 0.0, 'pid': 520}, {'name': 'cupsd', 'memory_percent': 0.05388946378330485, 'cpu_percent': 0.0, 'pid': 526}, {'name': 'sshd', 'memory_percent': 0.035680470829625624, 'cpu_percent': 0.0, 'pid': 530}, {'name': 'sddm', 'memory_percent': 0.07377693932768634, 'cpu_percent': 0.0, 'pid': 534}, {'name': 'ntpd', 'memory_percent': 0.02840704626991577, 'cpu_percent': 0.0, 'pid': 536}, {'name': 'Xorg', 'memory_percent': 0.9623554502237086, 'cpu_percent': 10.2, 'pid': 633}, {'name': 'irq/118-nvidia', 'memory_percent': 0.0, 'cpu_percent': 0.1, 'pid': 724}, {'name': 'nv_queue', 'memory_percent': 0.0, 'cpu_percent': 0.0, 'pid': 726}, {'name': 'wpa_supplicant', 'memory_percent': 0.05523733616674758, 'cpu_percent': 0.0, 'pid': 739}, {'name': 'dnsmasq', 'memory_percent': 0.011851104352534243, 'cpu_percent': 0.0, 'pid': 949}, {'name': 'dnsmasq', 'memory_percent': 0.004552248238419805, 'cpu_percent': 0.0, 'pid': 950}, {'name': 'sddm-helper', 'memory_percent': 0.0783800506749153, 'cpu_percent': 0.0, 'pid': 1044}, {'name': 'systemd', 'memory_percent': 0.056585208550190315, 'cpu_percent': 0.0, 'pid': 1046}, {'name': '(sd-pam)', 'memory_percent': 0.017522340984755566, 'cpu_percent': 0.0, 'pid': 1047}, {'name': 'i3', 'memory_percent': 0.1115682291728921, 'cpu_percent': 0.2, 'pid': 1054}, {'name': 'dbus-daemon', 'memory_percent': 0.032094621658579854, 'cpu_percent': 0.0, 'pid': 1070}, {'name': 'dunst', 'memory_percent': 0.13247296689345678, 'cpu_percent': 0.0, 'pid': 1075}, {'name': 'xcape', 'memory_percent': 0.009587696010526628, 'cpu_percent': 0.0, 'pid': 1094}, {'name': 'xcape', 'memory_percent': 0.00946053823850373, 'cpu_percent': 0.1, 'pid': 1097}, {'name': 'xss-lock', 'memory_percent': 0.035985649482480585, 'cpu_percent': 0.0, 'pid': 1108}, {'name': 'picom', 'memory_percent': 0.2856726506266462, 'cpu_percent': 1.2, 'pid': 1110}, {'name': 'nm-applet', 'memory_percent': 0.6022446398548571, 'cpu_percent': 0.0, 'pid': 1122}, {'name': 'python3', 'memory_percent': 0.14007700166042616, 'cpu_percent': 0.1, 'pid': 1125}, {'name': 'mconnect', 'memory_percent': 0.36161127207872185, 'cpu_percent': 0.0, 'pid': 1128}, {'name': 'blueman-applet', 'memory_percent': 0.50519782824698, 'cpu_percent': 0.0, 'pid': 1130}, {'name': 'polkit-gnome-authentication-agent-1', 'memory_percent': 0.2793401935799058, 'cpu_percent': 0.0, 'pid': 1131}, {'name': 'bash', 'memory_percent': 0.029144561347648586, 'cpu_percent': 0.0, 'pid': 1136}, {'name': 'polkitd', 'memory_percent': 0.12987894834418964, 'cpu_percent': 0.0, 'pid': 1158}, {'name': 'gvfsd', 'memory_percent': 0.0435642526950454, 'cpu_percent': 0.0, 'pid': 1254}, {'name': 'gvfsd-fuse', 'memory_percent': 0.03618910191771722, 'cpu_percent': 0.0, 'pid': 1262}, {'name': 'at-spi-bus-launcher', 'memory_percent': 0.044047452228732416, 'cpu_percent': 0.0, 'pid': 1272}, {'name': 'rtkit-daemon', 'memory_percent': 0.018844781813793718, 'cpu_percent': 0.0, 'pid': 1273}, {'name': 'dbus-daemon', 'memory_percent': 0.026626837461595176, 'cpu_percent': 0.0, 'pid': 1285}, {'name': 'at-spi2-registryd', 'memory_percent': 0.037257227202709575, 'cpu_percent': 0.0, 'pid': 1287}, {'name': 'krfcommd', 'memory_percent': 0.0, 'cpu_percent': 0.0, 'pid': 1316}, {'name': 'obexd', 'memory_percent': 0.04231810652922099, 'cpu_percent': 0.0, 'pid': 1342}, {'name': 'blueman-tray', 'memory_percent': 0.5920974496474296, 'cpu_percent': 0.0, 'pid': 1344}, {'name': 'libinput-debug-events', 'memory_percent': 0.022405199430434907, 'cpu_percent': 1.7, 'pid': 1354}, {'name': 'dconf-service', 'memory_percent': 0.03267954740988519, 'cpu_percent': 0.0, 'pid': 2449}, {'name': 'firefox', 'memory_percent': 9.417965816430463, 'cpu_percent': 13.7, 'pid': 7436}, {'name': 'Privileged Cont', 'memory_percent': 0.7839785276299851, 'cpu_percent': 0.1, 'pid': 7594}, {'name': 'Web Content', 'memory_percent': 4.242517337326427, 'cpu_percent': 1.4, 'pid': 7665}, {'name': 'WebExtensions', 'memory_percent': 2.246242042784521, 'cpu_percent': 1.7, 'pid': 7692}, {'name': 'Web Content', 'memory_percent': 8.14191214262626, 'cpu_percent': 0.8, 'pid': 7815}, {'name': 'RDD Process', 'memory_percent': 0.8388089589262595, 'cpu_percent': 0.0, 'pid': 8002}, {'name': 'ssh-agent', 'memory_percent': 0.013224408290381557, 'cpu_percent': 0.0, 'pid': 8423}, {'name': 'gvfsd-metadata', 'memory_percent': 0.036672301451404245, 'cpu_percent': 0.0, 'pid': 19681}, {'name': 'Web Content', 'memory_percent': 2.4206262113367254, 'cpu_percent': 3.9, 'pid': 34574}, {'name': 'gvfs-udisks2-volume-monitor', 'memory_percent': 0.07103033145199171, 'cpu_percent': 0.0, 'pid': 244554}, {'name': 'udisksd', 'memory_percent': 0.07616750544171685, 'cpu_percent': 0.0, 'pid': 244557}, {'name': 'gvfs-mtp-volume-monitor', 'memory_percent': 0.032272642539411915, 'cpu_percent': 0.0, 'pid': 244573}, {'name': 'gvfsd-trash', 'memory_percent': 0.043920294456709516, 'cpu_percent': 0.0, 'pid': 244577}, {'name': 'gvfsd-network', 'memory_percent': 0.04641258678835835, 'cpu_percent': 0.0, 'pid': 244620}, {'name': 'gvfsd-dnssd', 'memory_percent': 0.047582438290969024, 'cpu_percent': 0.0, 'pid': 244631}, {'name': 'Web Content', 'memory_percent': 2.7224224674558757, 'cpu_percent': 0.3, 'pid': 288013}, {'name': 'lf', 'memory_percent': 0.026906584560045552, 'cpu_percent': 0.0, 'pid': 292928}, {'name': 'Web Content', 'memory_percent': 2.6640316185429604, 'cpu_percent': 0.4, 'pid': 357563}, {'name': 'Web Content', 'memory_percent': 2.5046774986438622, 'cpu_percent': 0.3, 'pid': 357953}, {'name': 'st', 'memory_percent': 0.12972635901776214, 'cpu_percent': 0.0, 'pid': 363940}, {'name': 'zsh', 'memory_percent': 0.07240363538983903, 'cpu_percent': 0.0, 'pid': 363945}, {'name': 'zsh', 'memory_percent': 0.02433799756518298, 'cpu_percent': 0.0, 'pid': 363992}, {'name': 'gitstatusd-linux-x86_64', 'memory_percent': 0.018844781813793718, 'cpu_percent': 0.0, 'pid': 363993}, {'name': 'Web Content', 'memory_percent': 6.576752558350794, 'cpu_percent': 5.6, 'pid': 402370}, {'name': 'Web Content', 'memory_percent': 4.836369564227772, 'cpu_percent': 3.3, 'pid': 422686}, {'name': 'agetty', 'memory_percent': 0.020345243523663934, 'cpu_percent': 0.0, 'pid': 794329}, {'name': 'agetty', 'memory_percent': 0.019556865337121955, 'cpu_percent': 0.0, 'pid': 794411}, {'name': 'agetty', 'memory_percent': 0.020268948860450196, 'cpu_percent': 0.0, 'pid': 794433}, {'name': 'pulseaudio', 'memory_percent': 0.1276409715565866, 'cpu_percent': 0.0, 'pid': 824187}, {'name': 'gsettings-helper', 'memory_percent': 0.0450901459593202, 'cpu_percent': 0.0, 'pid': 824194}, {'name': 'st', 'memory_percent': 0.13369368150487662, 'cpu_percent': 0.0, 'pid': 914669}, {'name': 'zsh', 'memory_percent': 0.06436726419799178, 'cpu_percent': 0.0, 'pid': 914670}, {'name': 'zsh', 'memory_percent': 0.02461774466363336, 'cpu_percent': 0.0, 'pid': 914721}, {'name': 'gitstatusd-linux-x86_64', 'memory_percent': 0.01828528761689296, 'cpu_percent': 0.0, 'pid': 914722}, {'name': 'dockerd', 'memory_percent': 0.5469564405793003, 'cpu_percent': 0.1, 'pid': 994503}, {'name': 'containerd', 'memory_percent': 0.22868053720598264, 'cpu_percent': 0.4, 'pid': 994519}, {'name': 'conky', 'memory_percent': 0.07451445440541915, 'cpu_percent': 0.9, 'pid': 1198062}, {'name': 'polybar', 'memory_percent': 0.14185721046874677, 'cpu_percent': 1.2, 'pid': 1198063}, {'name': 'kworker/9:0-mm_percpu_wq', 'memory_percent': 0.0, 'cpu_percent': 0.0, 'pid': 1310251}, {'name': 'jupyter-noteboo', 'memory_percent': 0.41524642031798087, 'cpu_percent': 0.1, 'pid': 1317684}, {'name': 'st-urlhandler', 'memory_percent': 0.0, 'cpu_percent': 0.0, 'pid': 1318175}, {'name': 'st', 'memory_percent': 0.10660907606399903, 'cpu_percent': 0.0, 'pid': 1398340}, {'name': 'zsh', 'memory_percent': 0.04915919466405298, 'cpu_percent': 0.0, 'pid': 1398341}, {'name': 'zsh', 'memory_percent': 0.02591475393826694, 'cpu_percent': 0.0, 'pid': 1398388}, {'name': 'gitstatusd-linux-x86_64', 'memory_percent': 0.01853960316093876, 'cpu_percent': 0.0, 'pid': 1398389}, {'name': 'docker-compose', 'memory_percent': 0.3292877664305008, 'cpu_percent': 0.2, 'pid': 1407486}, {'name': 'docker-proxy', 'memory_percent': 0.022990125181740245, 'cpu_percent': 0.0, 'pid': 1407534}, {'name': 'docker-proxy', 'memory_percent': 0.025075512642915795, 'cpu_percent': 0.0, 'pid': 1407540}, {'name': 'docker-proxy', 'memory_percent': 0.026067343264694415, 'cpu_percent': 0.0, 'pid': 1407554}, {'name': 'docker-proxy', 'memory_percent': 0.02133707414544255, 'cpu_percent': 0.0, 'pid': 1407562}, {'name': 'containerd-shim-runc-v2', 'memory_percent': 0.05388946378330485, 'cpu_percent': 0.0, 'pid': 1407587}, {'name': 'containerd-shim-runc-v2', 'memory_percent': 0.05915379554505289, 'cpu_percent': 0.0, 'pid': 1407588}, {'name': 'tini', 'memory_percent': 0.0053914895337709426, 'cpu_percent': 0.0, 'pid': 1407629}, {'name': 'tini', 'memory_percent': 0.005315194870557202, 'cpu_percent': 0.0, 'pid': 1407636}, {'name': 'java', 'memory_percent': 9.185089072747726, 'cpu_percent': 2.9, 'pid': 1407761}, {'name': 'node', 'memory_percent': 0.39441797726062994, 'cpu_percent': 0.0, 'pid': 1407763}, {'name': 'node', 'memory_percent': 1.7584902608590829, 'cpu_percent': 0.9, 'pid': 1408880}, {'name': 'controller', 'memory_percent': 0.045039282850511037, 'cpu_percent': 0.0, 'pid': 1408995}, {'name': 'st', 'memory_percent': 0.10378617352509066, 'cpu_percent': 0.0, 'pid': 1415617}, {'name': 'zsh', 'memory_percent': 0.05226184430141173, 'cpu_percent': 0.0, 'pid': 1415618}, {'name': 'zsh', 'memory_percent': 0.02515180730612954, 'cpu_percent': 0.0, 'pid': 1415669}, {'name': 'gitstatusd-linux-x86_64', 'memory_percent': 0.01871762404177082, 'cpu_percent': 0.0, 'pid': 1415671}, {'name': 'python', 'memory_percent': 0.9684081601719987, 'cpu_percent': 0.2, 'pid': 1442380}, {'name': 'python', 'memory_percent': 0.08939191373209841, 'cpu_percent': 0.0, 'pid': 1473970}, {'name': 'st', 'memory_percent': 0.13618597383652545, 'cpu_percent': 0.6, 'pid': 1492913}, {'name': 'zsh', 'memory_percent': 0.05127001367963312, 'cpu_percent': 0.0, 'pid': 1492918}, {'name': 'zsh', 'memory_percent': 0.02515180730612954, 'cpu_percent': 0.0, 'pid': 1492966}, {'name': 'gitstatusd-linux-x86_64', 'memory_percent': 0.01825985606248838, 'cpu_percent': 0.0, 'pid': 1492967}, {'name': 'kworker/5:1-rcu_gp', 'memory_percent': 0.0, 'cpu_percent': 0.0, 'pid': 1521710}, {'name': 'st', 'memory_percent': 0.13277814554631173, 'cpu_percent': 0.0, 'pid': 1539775}, {'name': 'zsh', 'memory_percent': 0.04893031067441176, 'cpu_percent': 0.0, 'pid': 1539780}, {'name': 'zsh', 'memory_percent': 0.024643176218037938, 'cpu_percent': 0.0, 'pid': 1539827}, {'name': 'gitstatusd-linux-x86_64', 'memory_percent': 0.01828528761689296, 'cpu_percent': 0.0, 'pid': 1539828}, {'name': 'lf', 'memory_percent': 0.06472330595965589, 'cpu_percent': 0.0, 'pid': 1539944}, {'name': 'kworker/8:3-mm_percpu_wq', 'memory_percent': 0.0, 'cpu_percent': 0.0, 'pid': 1602275}, {'name': 'xdotool', 'memory_percent': 0.0, 'cpu_percent': 0.0, 'pid': 1614535}, {'name': 'kworker/2:2-mm_percpu_wq', 'memory_percent': 0.0, 'cpu_percent': 0.0, 'pid': 1626659}, {'name': 'kworker/7:2-mm_percpu_wq', 'memory_percent': 0.0, 'cpu_percent': 0.0, 'pid': 1630725}, {'name': 'kworker/1:1-mm_percpu_wq', 'memory_percent': 0.0, 'cpu_percent': 0.0, 'pid': 1633137}, {'name': 'kworker/9:2-mm_percpu_wq', 'memory_percent': 0.0, 'cpu_percent': 0.0, 'pid': 1645429}, {'name': 'kworker/5:0-mm_percpu_wq', 'memory_percent': 0.0, 'cpu_percent': 0.0, 'pid': 1647642}, {'name': 'kworker/11:0-mm_percpu_wq', 'memory_percent': 0.0, 'cpu_percent': 0.0, 'pid': 1653103}, {'name': 'kworker/4:2-mm_percpu_wq', 'memory_percent': 0.0, 'cpu_percent': 0.0, 'pid': 1653907}, {'name': 'kworker/u33:2-hci0', 'memory_percent': 0.0, 'cpu_percent': 0.0, 'pid': 1654624}, {'name': 'kworker/3:1-mm_percpu_wq', 'memory_percent': 0.0, 'cpu_percent': 0.0, 'pid': 1657380}, {'name': 'kworker/10:1-events', 'memory_percent': 0.0, 'cpu_percent': 0.0, 'pid': 1657784}, {'name': 'kworker/0:2-events', 'memory_percent': 0.0, 'cpu_percent': 0.0, 'pid': 1658878}, {'name': 'kworker/8:1-mm_percpu_wq', 'memory_percent': 0.0, 'cpu_percent': 0.0, 'pid': 1659186}, {'name': 'kworker/0:3-events_freezable', 'memory_percent': 0.0, 'cpu_percent': 0.0, 'pid': 1662986}, {'name': 'kworker/4:1-cgroup_destroy', 'memory_percent': 0.0, 'cpu_percent': 0.0, 'pid': 1663926}, {'name': 'kworker/6:1-events', 'memory_percent': 0.0, 'cpu_percent': 0.0, 'pid': 1665402}, {'name': 'kworker/3:2-events', 'memory_percent': 0.0, 'cpu_percent': 0.0, 'pid': 1665877}, {'name': 'kworker/2:1-mm_percpu_wq', 'memory_percent': 0.0, 'cpu_percent': 0.0, 'pid': 1667178}, {'name': 'kworker/10:2-mm_percpu_wq', 'memory_percent': 0.0, 'cpu_percent': 0.0, 'pid': 1667260}, {'name': 'kworker/u33:0-rb_allocator', 'memory_percent': 0.0, 'cpu_percent': 0.0, 'pid': 1667427}, {'name': 'kworker/u32:9-ext4-rsv-conversion', 'memory_percent': 0.0, 'cpu_percent': 0.1, 'pid': 1667448}, {'name': 'kworker/u32:11+events_unbound', 'memory_percent': 0.0, 'cpu_percent': 0.1, 'pid': 1667450}, {'name': 'kworker/u32:16-ext4-rsv-conversion', 'memory_percent': 0.0, 'cpu_percent': 0.1, 'pid': 1667455}, {'name': 'kworker/1:2-mm_percpu_wq', 'memory_percent': 0.0, 'cpu_percent': 0.0, 'pid': 1667465}, {'name': 'kworker/11:1-mm_percpu_wq', 'memory_percent': 0.0, 'cpu_percent': 0.0, 'pid': 1667466}, {'name': 'kworker/u32:41-flush-259:0', 'memory_percent': 0.0, 'cpu_percent': 0.1, 'pid': 1667482}, {'name': 'kworker/u32:55-ext4-rsv-conversion', 'memory_percent': 0.0, 'cpu_percent': 0.0, 'pid': 1667496}, {'name': 'nvidia', 'memory_percent': 0.0, 'cpu_percent': 0.0, 'pid': 1667505}, {'name': 'irq/36-mmc0', 'memory_percent': 0.0, 'cpu_percent': 0.0, 'pid': 1667506}, {'name': 'bluetoothd', 'memory_percent': 0.03682489077783172, 'cpu_percent': 0.0, 'pid': 1668065}, {'name': 'kworker/6:3-mm_percpu_wq', 'memory_percent': 0.0, 'cpu_percent': 0.0, 'pid': 1668497}, {'name': 'kworker/7:0-events', 'memory_percent': 0.0, 'cpu_percent': 0.0, 'pid': 1668614}, {'name': 'nvim', 'memory_percent': 0.11390793217811346, 'cpu_percent': 1.8, 'pid': 1669572}, {'name': 'kworker/0:0-mm_percpu_wq', 'memory_percent': 0.0, 'cpu_percent': 0.0, 'pid': 1675923}, {'name': 'kworker/8:0', 'memory_percent': 0.0, 'cpu_percent': 0.0, 'pid': 1676015}, {'name': 'kworker/2:0-mm_percpu_wq', 'memory_percent': 0.0, 'cpu_percent': 0.0, 'pid': 1677022}, {'name': 'kworker/1:0', 'memory_percent': 0.0, 'cpu_percent': 0.0, 'pid': 1678140}, {'name': 'kworker/6:0', 'memory_percent': 0.0, 'cpu_percent': 0.0, 'pid': 1678431}, {'name': 'kworker/9:1-mm_percpu_wq', 'memory_percent': 0.0, 'cpu_percent': 0.0, 'pid': 1679372}, {'name': 'xclip', 'memory_percent': 0.01907366580343494, 'cpu_percent': 0.0, 'pid': 1682995}, {'name': 'clipnotify', 'memory_percent': 0.007222561450900696, 'cpu_percent': 0.0, 'pid': 1683023}]\n"
     ]
    }
   ],
   "source": [
    "import psutil\n",
    "listOfProcessNames = list()\n",
    "# Iterate over all running processes\n",
    "def process_info(listOfProcessNames):\n",
    "    for proc in psutil.process_iter():\n",
    "       # Get process detail as dictionary\n",
    "       pInfoDict = proc.as_dict(attrs=['pid', 'name', 'cpu_percent', 'memory_percent'])\n",
    "       # Append dict of process detail in list\n",
    "       listOfProcessNames.append(pInfoDict)\n",
    "    return listOfProcessNames\n",
    "\n",
    "list_of_Process = list()\n",
    "list_of_Process = process_info(list_of_Process)\n",
    "\n",
    "print(list_of_Process)\n"
   ]
  },
  {
   "cell_type": "code",
   "execution_count": 51,
   "id": "ece0a1d8",
   "metadata": {},
   "outputs": [],
   "source": [
    "def construct_dataframe(processes):\n",
    "    # convert to pandas dataframe\n",
    "    df = pd.DataFrame(processes)\n",
    "    # set the process id as index of a process\n",
    "    df.set_index('pid', inplace=True)\n",
    "    # sort rows by the column passed as argument\n",
    "    # pretty printing bytes\n",
    "    # convert to proper date format\n",
    "    # reorder and define used columns\n",
    "    return df\n"
   ]
  },
  {
   "cell_type": "code",
   "execution_count": 53,
   "id": "f3cbf687",
   "metadata": {},
   "outputs": [
    {
     "data": {
      "text/html": [
       "<div>\n",
       "<style scoped>\n",
       "    .dataframe tbody tr th:only-of-type {\n",
       "        vertical-align: middle;\n",
       "    }\n",
       "\n",
       "    .dataframe tbody tr th {\n",
       "        vertical-align: top;\n",
       "    }\n",
       "\n",
       "    .dataframe thead th {\n",
       "        text-align: right;\n",
       "    }\n",
       "</style>\n",
       "<table border=\"1\" class=\"dataframe\">\n",
       "  <thead>\n",
       "    <tr style=\"text-align: right;\">\n",
       "      <th></th>\n",
       "      <th>pid</th>\n",
       "      <th>name</th>\n",
       "      <th>memory_percent</th>\n",
       "      <th>cpu_percent</th>\n",
       "    </tr>\n",
       "  </thead>\n",
       "  <tbody>\n",
       "    <tr>\n",
       "      <th>0</th>\n",
       "      <td>1</td>\n",
       "      <td>systemd</td>\n",
       "      <td>0.066275</td>\n",
       "      <td>0.0</td>\n",
       "    </tr>\n",
       "    <tr>\n",
       "      <th>1</th>\n",
       "      <td>2</td>\n",
       "      <td>kthreadd</td>\n",
       "      <td>0.000000</td>\n",
       "      <td>0.0</td>\n",
       "    </tr>\n",
       "    <tr>\n",
       "      <th>2</th>\n",
       "      <td>3</td>\n",
       "      <td>rcu_gp</td>\n",
       "      <td>0.000000</td>\n",
       "      <td>0.0</td>\n",
       "    </tr>\n",
       "    <tr>\n",
       "      <th>3</th>\n",
       "      <td>4</td>\n",
       "      <td>rcu_par_gp</td>\n",
       "      <td>0.000000</td>\n",
       "      <td>0.0</td>\n",
       "    </tr>\n",
       "    <tr>\n",
       "      <th>4</th>\n",
       "      <td>6</td>\n",
       "      <td>kworker/0:0H-events_highpri</td>\n",
       "      <td>0.000000</td>\n",
       "      <td>0.0</td>\n",
       "    </tr>\n",
       "    <tr>\n",
       "      <th>...</th>\n",
       "      <td>...</td>\n",
       "      <td>...</td>\n",
       "      <td>...</td>\n",
       "      <td>...</td>\n",
       "    </tr>\n",
       "    <tr>\n",
       "      <th>326</th>\n",
       "      <td>1492918</td>\n",
       "      <td>zsh</td>\n",
       "      <td>0.047710</td>\n",
       "      <td>0.0</td>\n",
       "    </tr>\n",
       "    <tr>\n",
       "      <th>327</th>\n",
       "      <td>1492966</td>\n",
       "      <td>zsh</td>\n",
       "      <td>0.025152</td>\n",
       "      <td>0.0</td>\n",
       "    </tr>\n",
       "    <tr>\n",
       "      <th>328</th>\n",
       "      <td>1492967</td>\n",
       "      <td>gitstatusd-linux-x86_64</td>\n",
       "      <td>0.018260</td>\n",
       "      <td>0.0</td>\n",
       "    </tr>\n",
       "    <tr>\n",
       "      <th>329</th>\n",
       "      <td>1493045</td>\n",
       "      <td>7z</td>\n",
       "      <td>0.018006</td>\n",
       "      <td>0.0</td>\n",
       "    </tr>\n",
       "    <tr>\n",
       "      <th>330</th>\n",
       "      <td>1493046</td>\n",
       "      <td>7z</td>\n",
       "      <td>2.290137</td>\n",
       "      <td>1071.5</td>\n",
       "    </tr>\n",
       "  </tbody>\n",
       "</table>\n",
       "<p>331 rows × 4 columns</p>\n",
       "</div>"
      ],
      "text/plain": [
       "         pid                         name  memory_percent  cpu_percent\n",
       "0          1                      systemd        0.066275          0.0\n",
       "1          2                     kthreadd        0.000000          0.0\n",
       "2          3                       rcu_gp        0.000000          0.0\n",
       "3          4                   rcu_par_gp        0.000000          0.0\n",
       "4          6  kworker/0:0H-events_highpri        0.000000          0.0\n",
       "..       ...                          ...             ...          ...\n",
       "326  1492918                          zsh        0.047710          0.0\n",
       "327  1492966                          zsh        0.025152          0.0\n",
       "328  1492967      gitstatusd-linux-x86_64        0.018260          0.0\n",
       "329  1493045                           7z        0.018006          0.0\n",
       "330  1493046                           7z        2.290137       1071.5\n",
       "\n",
       "[331 rows x 4 columns]"
      ]
     },
     "execution_count": 53,
     "metadata": {},
     "output_type": "execute_result"
    }
   ],
   "source": [
    "import pandas as pd\n",
    "dataFrame = construct_dataframe(listOfProcessNames)\n",
    "dataFrame = dataFrame.rename_axis('pid').reset_index()\n",
    "dataFrame"
   ]
  },
  {
   "cell_type": "code",
   "execution_count": 74,
   "id": "bed9b26b",
   "metadata": {},
   "outputs": [],
   "source": [
    "df_iter = dataFrame.iterrows()\n",
    "index, document = next(df_iter)\n",
    "next(df_iter)\n",
    "index, document = next(df_iter)"
   ]
  },
  {
   "cell_type": "code",
   "execution_count": 75,
   "id": "9b554255",
   "metadata": {},
   "outputs": [
    {
     "data": {
      "text/plain": [
       "{'pid': 3, 'name': 'rcu_gp', 'cpu_percent': 0.0, 'memory_percent': 0.0}"
      ]
     },
     "execution_count": 75,
     "metadata": {},
     "output_type": "execute_result"
    }
   ],
   "source": [
    "use_these_keys = ['pid', 'name', 'cpu_percent', 'memory_percent']\n",
    "\n",
    "def filterKeys(document):\n",
    "    return {key: document[key] for key in use_these_keys }\n",
    "\n",
    "\n",
    "filterKeys(document)"
   ]
  },
  {
   "cell_type": "code",
   "execution_count": 79,
   "id": "fa07975a",
   "metadata": {},
   "outputs": [
    {
     "data": {
      "text/plain": [
       "(331, [])"
      ]
     },
     "execution_count": 79,
     "metadata": {},
     "output_type": "execute_result"
    }
   ],
   "source": [
    "from elasticsearch import Elasticsearch\n",
    "from elasticsearch import helpers\n",
    "es_client = Elasticsearch(http_compress=True)\n",
    "\n",
    "def doc_generator(df):\n",
    "    df_iter = df.iterrows()\n",
    "    for index, document in df_iter:\n",
    "        yield {\n",
    "                \"_index\": 'stats',\n",
    "                \"_id\" : f\"{document['pid'] + index}\",\n",
    "                \"_source\": filterKeys(document),\n",
    "            }\n",
    "        \n",
    "    \n",
    "helpers.bulk(es_client, doc_generator(dataFrame))"
   ]
  },
  {
   "cell_type": "code",
   "execution_count": 15,
   "id": "44707e50",
   "metadata": {},
   "outputs": [
    {
     "data": {
      "text/plain": [
       "'{\"name\":{\"1\":\"systemd\",\"2\":\"kthreadd\",\"3\":\"rcu_gp\",\"4\":\"rcu_par_gp\",\"6\":\"kworker\\\\/0:0H-events_highpri\",\"8\":\"mm_percpu_wq\",\"9\":\"rcu_tasks_kthre\",\"10\":\"rcu_tasks_rude_\",\"11\":\"rcu_tasks_trace\",\"12\":\"ksoftirqd\\\\/0\",\"13\":\"rcu_preempt\",\"14\":\"rcub\\\\/0\",\"15\":\"rcuc\\\\/0\",\"16\":\"migration\\\\/0\",\"17\":\"idle_inject\\\\/0\",\"19\":\"cpuhp\\\\/0\",\"20\":\"cpuhp\\\\/1\",\"21\":\"idle_inject\\\\/1\",\"22\":\"migration\\\\/1\",\"23\":\"rcuc\\\\/1\",\"24\":\"ksoftirqd\\\\/1\",\"26\":\"kworker\\\\/1:0H-events_highpri\",\"27\":\"cpuhp\\\\/2\",\"28\":\"idle_inject\\\\/2\",\"29\":\"migration\\\\/2\",\"30\":\"rcuc\\\\/2\",\"31\":\"ksoftirqd\\\\/2\",\"33\":\"kworker\\\\/2:0H-events_highpri\",\"34\":\"cpuhp\\\\/3\",\"35\":\"idle_inject\\\\/3\",\"36\":\"migration\\\\/3\",\"37\":\"rcuc\\\\/3\",\"38\":\"ksoftirqd\\\\/3\",\"40\":\"kworker\\\\/3:0H-events_highpri\",\"41\":\"cpuhp\\\\/4\",\"42\":\"idle_inject\\\\/4\",\"43\":\"migration\\\\/4\",\"44\":\"rcuc\\\\/4\",\"45\":\"ksoftirqd\\\\/4\",\"47\":\"kworker\\\\/4:0H-events_highpri\",\"48\":\"cpuhp\\\\/5\",\"49\":\"idle_inject\\\\/5\",\"50\":\"migration\\\\/5\",\"51\":\"rcuc\\\\/5\",\"52\":\"ksoftirqd\\\\/5\",\"54\":\"kworker\\\\/5:0H-events_highpri\",\"55\":\"cpuhp\\\\/6\",\"56\":\"idle_inject\\\\/6\",\"57\":\"migration\\\\/6\",\"58\":\"rcuc\\\\/6\",\"59\":\"ksoftirqd\\\\/6\",\"61\":\"kworker\\\\/6:0H-events_highpri\",\"62\":\"cpuhp\\\\/7\",\"63\":\"idle_inject\\\\/7\",\"64\":\"migration\\\\/7\",\"65\":\"rcuc\\\\/7\",\"66\":\"ksoftirqd\\\\/7\",\"68\":\"kworker\\\\/7:0H-events_highpri\",\"69\":\"cpuhp\\\\/8\",\"70\":\"idle_inject\\\\/8\",\"71\":\"migration\\\\/8\",\"72\":\"rcuc\\\\/8\",\"73\":\"ksoftirqd\\\\/8\",\"75\":\"kworker\\\\/8:0H-events_highpri\",\"76\":\"cpuhp\\\\/9\",\"77\":\"idle_inject\\\\/9\",\"78\":\"migration\\\\/9\",\"79\":\"rcuc\\\\/9\",\"80\":\"ksoftirqd\\\\/9\",\"82\":\"kworker\\\\/9:0H-events_highpri\",\"83\":\"cpuhp\\\\/10\",\"84\":\"idle_inject\\\\/10\",\"85\":\"migration\\\\/10\",\"86\":\"rcuc\\\\/10\",\"87\":\"ksoftirqd\\\\/10\",\"89\":\"kworker\\\\/10:0H-events_highpri\",\"90\":\"cpuhp\\\\/11\",\"91\":\"idle_inject\\\\/11\",\"92\":\"migration\\\\/11\",\"93\":\"rcuc\\\\/11\",\"94\":\"ksoftirqd\\\\/11\",\"96\":\"kworker\\\\/11:0H-events_highpri\",\"97\":\"kdevtmpfs\",\"98\":\"netns\",\"99\":\"inet_frag_wq\",\"100\":\"kauditd\",\"101\":\"khungtaskd\",\"102\":\"oom_reaper\",\"103\":\"writeback\",\"104\":\"kcompactd0\",\"105\":\"ksmd\",\"106\":\"khugepaged\",\"126\":\"kintegrityd\",\"127\":\"kblockd\",\"128\":\"blkcg_punt_bio\",\"129\":\"ata_sff\",\"130\":\"edac-poller\",\"131\":\"devfreq_wq\",\"132\":\"watchdogd\",\"135\":\"kworker\\\\/2:1H-kblockd\",\"136\":\"irq\\\\/25-AMD-Vi\",\"138\":\"kswapd0\",\"140\":\"kthrotld\",\"149\":\"acpi_thermal_pm\",\"150\":\"amd_iommu_v2\",\"151\":\"nvme-wq\",\"152\":\"nvme-reset-wq\",\"153\":\"nvme-delete-wq\",\"158\":\"mld\",\"159\":\"ipv6_addrconf\",\"160\":\"kworker\\\\/10:1H-kblockd\",\"171\":\"kstrp\",\"176\":\"zswap1\",\"177\":\"zswap1\",\"178\":\"zswap-shrink\",\"180\":\"charger_manager\",\"188\":\"kworker\\\\/4:1H-kblockd\",\"202\":\"kworker\\\\/6:1H-kblockd\",\"204\":\"kworker\\\\/0:1H-kblockd\",\"206\":\"gfx\",\"207\":\"comp_1.0.0\",\"208\":\"comp_1.1.0\",\"209\":\"comp_1.2.0\",\"210\":\"comp_1.3.0\",\"211\":\"comp_1.0.1\",\"212\":\"comp_1.1.1\",\"213\":\"comp_1.2.1\",\"214\":\"comp_1.3.1\",\"215\":\"sdma0\",\"216\":\"vcn_dec\",\"217\":\"vcn_enc0\",\"218\":\"vcn_enc1\",\"219\":\"jpeg_dec\",\"231\":\"kworker\\\\/7:1H-kblockd\",\"232\":\"nv_queue\",\"233\":\"nv_queue\",\"237\":\"jbd2\\\\/nvme0n1p3-\",\"238\":\"ext4-rsv-conver\",\"245\":\"kworker\\\\/5:1H-kblockd\",\"249\":\"card0-crtc0\",\"250\":\"card0-crtc1\",\"251\":\"card0-crtc2\",\"252\":\"card0-crtc3\",\"253\":\"kworker\\\\/3:1H-kblockd\",\"255\":\"kworker\\\\/8:1H-kblockd\",\"299\":\"kworker\\\\/11:1H-kblockd\",\"300\":\"haveged\",\"302\":\"systemd-journald\",\"303\":\"systemd-udevd\",\"322\":\"kworker\\\\/1:1H-kblockd\",\"350\":\"irq\\\\/71-SYNA32A5\",\"356\":\"tpm_dev_wq\",\"364\":\"sdhci\",\"366\":\"kworker\\\\/9:1H-kblockd\",\"367\":\"nvidia-modeset\\\\/\",\"368\":\"nvidia-modeset\\\\/\",\"373\":\"cfg80211\",\"374\":\"cryptd\",\"392\":\"irq\\\\/102-iwlwifi\",\"394\":\"irq\\\\/103-iwlwifi\",\"395\":\"irq\\\\/104-iwlwifi\",\"396\":\"irq\\\\/105-iwlwifi\",\"397\":\"irq\\\\/106-iwlwifi\",\"398\":\"irq\\\\/107-iwlwifi\",\"399\":\"irq\\\\/108-iwlwifi\",\"400\":\"irq\\\\/109-iwlwifi\",\"402\":\"irq\\\\/110-iwlwifi\",\"403\":\"irq\\\\/111-iwlwifi\",\"404\":\"irq\\\\/112-iwlwifi\",\"405\":\"irq\\\\/113-iwlwifi\",\"406\":\"irq\\\\/114-iwlwifi\",\"407\":\"irq\\\\/115-iwlwifi\",\"512\":\"avahi-daemon\",\"513\":\"crond\",\"514\":\"dbus-daemon\",\"515\":\"NetworkManager\",\"517\":\"systemd-logind\",\"518\":\"systemd-machined\",\"520\":\"avahi-daemon\",\"526\":\"cupsd\",\"530\":\"sshd\",\"534\":\"sddm\",\"536\":\"ntpd\",\"633\":\"Xorg\",\"724\":\"irq\\\\/118-nvidia\",\"726\":\"nv_queue\",\"739\":\"wpa_supplicant\",\"949\":\"dnsmasq\",\"950\":\"dnsmasq\",\"1044\":\"sddm-helper\",\"1046\":\"systemd\",\"1047\":\"(sd-pam)\",\"1054\":\"i3\",\"1070\":\"dbus-daemon\",\"1075\":\"dunst\",\"1094\":\"xcape\",\"1097\":\"xcape\",\"1108\":\"xss-lock\",\"1110\":\"picom\",\"1122\":\"nm-applet\",\"1125\":\"python3\",\"1128\":\"mconnect\",\"1130\":\"blueman-applet\",\"1131\":\"polkit-gnome-authentication-agent-1\",\"1136\":\"bash\",\"1158\":\"polkitd\",\"1254\":\"gvfsd\",\"1262\":\"gvfsd-fuse\",\"1272\":\"at-spi-bus-launcher\",\"1273\":\"rtkit-daemon\",\"1285\":\"dbus-daemon\",\"1287\":\"at-spi2-registryd\",\"1316\":\"krfcommd\",\"1342\":\"obexd\",\"1344\":\"blueman-tray\",\"1354\":\"libinput-debug-events\",\"2449\":\"dconf-service\",\"7436\":\"firefox\",\"7594\":\"Privileged Cont\",\"7665\":\"Web Content\",\"7692\":\"WebExtensions\",\"7815\":\"Web Content\",\"8002\":\"RDD Process\",\"8423\":\"ssh-agent\",\"19681\":\"gvfsd-metadata\",\"34574\":\"Web Content\",\"244554\":\"gvfs-udisks2-volume-monitor\",\"244557\":\"udisksd\",\"244573\":\"gvfs-mtp-volume-monitor\",\"244577\":\"gvfsd-trash\",\"244620\":\"gvfsd-network\",\"244631\":\"gvfsd-dnssd\",\"288013\":\"Web Content\",\"292928\":\"lf\",\"357563\":\"Web Content\",\"357953\":\"Web Content\",\"363940\":\"st\",\"363945\":\"zsh\",\"363992\":\"zsh\",\"363993\":\"gitstatusd-linux-x86_64\",\"402370\":\"Web Content\",\"422686\":\"Web Content\",\"794329\":\"agetty\",\"794411\":\"agetty\",\"794433\":\"agetty\",\"818406\":\"nvidia\",\"818407\":\"irq\\\\/36-mmc0\",\"820987\":\"bluetoothd\",\"824187\":\"pulseaudio\",\"824194\":\"gsettings-helper\",\"914669\":\"st\",\"914670\":\"zsh\",\"914721\":\"zsh\",\"914722\":\"gitstatusd-linux-x86_64\",\"947055\":\"kworker\\\\/11:2-mm_percpu_wq\",\"994503\":\"dockerd\",\"994519\":\"containerd\",\"1019016\":\"kworker\\\\/7:1-mm_percpu_wq\",\"1198062\":\"conky\",\"1198063\":\"polybar\",\"1287663\":\"kworker\\\\/3:2-mm_percpu_wq\",\"1310251\":\"kworker\\\\/9:0-mm_percpu_wq\",\"1317684\":\"jupyter-noteboo\",\"1318175\":\"st-urlhandler\",\"1349133\":\"kworker\\\\/4:1-rcu_gp\",\"1367423\":\"kworker\\\\/u33:1-rb_allocator\",\"1371421\":\"kworker\\\\/10:1-mm_percpu_wq\",\"1392504\":\"kworker\\\\/u33:0-rb_allocator\",\"1392573\":\"kworker\\\\/4:2-events\",\"1394581\":\"kworker\\\\/8:0-events\",\"1398340\":\"st\",\"1398341\":\"zsh\",\"1398388\":\"zsh\",\"1398389\":\"gitstatusd-linux-x86_64\",\"1398546\":\"lf\",\"1398690\":\"sh\",\"1398693\":\"nvim\",\"1401936\":\"kworker\\\\/0:0-events\",\"1403621\":\"kworker\\\\/9:1-events\",\"1404860\":\"kworker\\\\/u32:0+events_unbound\",\"1406981\":\"kworker\\\\/6:1-mm_percpu_wq\",\"1407003\":\"kworker\\\\/1:0-mm_percpu_wq\",\"1407004\":\"kworker\\\\/7:2\",\"1407016\":\"kworker\\\\/u32:2-events_power_efficient\",\"1407104\":\"kworker\\\\/5:1-mm_percpu_wq\",\"1407486\":\"docker-compose\",\"1407534\":\"docker-proxy\",\"1407540\":\"docker-proxy\",\"1407554\":\"docker-proxy\",\"1407562\":\"docker-proxy\",\"1407587\":\"containerd-shim-runc-v2\",\"1407588\":\"containerd-shim-runc-v2\",\"1407629\":\"tini\",\"1407636\":\"tini\",\"1407761\":\"java\",\"1407763\":\"node\",\"1408880\":\"node\",\"1408995\":\"controller\",\"1414383\":\"kworker\\\\/2:1-events\",\"1415617\":\"st\",\"1415618\":\"zsh\",\"1415669\":\"zsh\",\"1415671\":\"gitstatusd-linux-x86_64\",\"1419631\":\"kworker\\\\/u32:1-events_power_efficient\",\"1424121\":\"kworker\\\\/6:2-mm_percpu_wq\",\"1425703\":\"kworker\\\\/11:1\",\"1428096\":\"kworker\\\\/0:1-events\",\"1429395\":\"kworker\\\\/10:0\",\"1432255\":\"kworker\\\\/5:0\",\"1432369\":\"kworker\\\\/u32:3-events_power_efficient\",\"1432700\":\"kworker\\\\/1:2\",\"1433291\":\"kworker\\\\/2:0\",\"1433945\":\"kworker\\\\/3:0\",\"1434874\":\"kworker\\\\/8:1\",\"1434923\":\"kworker\\\\/0:2-events\",\"1437437\":\"kworker\\\\/0:3\",\"1438548\":\"xdotool\",\"1441160\":\"clipnotify\",\"1442380\":\"python\"},\"memory_percent\":{\"1\":0.0662746308,\"2\":0.0,\"3\":0.0,\"4\":0.0,\"6\":0.0,\"8\":0.0,\"9\":0.0,\"10\":0.0,\"11\":0.0,\"12\":0.0,\"13\":0.0,\"14\":0.0,\"15\":0.0,\"16\":0.0,\"17\":0.0,\"19\":0.0,\"20\":0.0,\"21\":0.0,\"22\":0.0,\"23\":0.0,\"24\":0.0,\"26\":0.0,\"27\":0.0,\"28\":0.0,\"29\":0.0,\"30\":0.0,\"31\":0.0,\"33\":0.0,\"34\":0.0,\"35\":0.0,\"36\":0.0,\"37\":0.0,\"38\":0.0,\"40\":0.0,\"41\":0.0,\"42\":0.0,\"43\":0.0,\"44\":0.0,\"45\":0.0,\"47\":0.0,\"48\":0.0,\"49\":0.0,\"50\":0.0,\"51\":0.0,\"52\":0.0,\"54\":0.0,\"55\":0.0,\"56\":0.0,\"57\":0.0,\"58\":0.0,\"59\":0.0,\"61\":0.0,\"62\":0.0,\"63\":0.0,\"64\":0.0,\"65\":0.0,\"66\":0.0,\"68\":0.0,\"69\":0.0,\"70\":0.0,\"71\":0.0,\"72\":0.0,\"73\":0.0,\"75\":0.0,\"76\":0.0,\"77\":0.0,\"78\":0.0,\"79\":0.0,\"80\":0.0,\"82\":0.0,\"83\":0.0,\"84\":0.0,\"85\":0.0,\"86\":0.0,\"87\":0.0,\"89\":0.0,\"90\":0.0,\"91\":0.0,\"92\":0.0,\"93\":0.0,\"94\":0.0,\"96\":0.0,\"97\":0.0,\"98\":0.0,\"99\":0.0,\"100\":0.0,\"101\":0.0,\"102\":0.0,\"103\":0.0,\"104\":0.0,\"105\":0.0,\"106\":0.0,\"126\":0.0,\"127\":0.0,\"128\":0.0,\"129\":0.0,\"130\":0.0,\"131\":0.0,\"132\":0.0,\"135\":0.0,\"136\":0.0,\"138\":0.0,\"140\":0.0,\"149\":0.0,\"150\":0.0,\"151\":0.0,\"152\":0.0,\"153\":0.0,\"158\":0.0,\"159\":0.0,\"160\":0.0,\"171\":0.0,\"176\":0.0,\"177\":0.0,\"178\":0.0,\"180\":0.0,\"188\":0.0,\"202\":0.0,\"204\":0.0,\"206\":0.0,\"207\":0.0,\"208\":0.0,\"209\":0.0,\"210\":0.0,\"211\":0.0,\"212\":0.0,\"213\":0.0,\"214\":0.0,\"215\":0.0,\"216\":0.0,\"217\":0.0,\"218\":0.0,\"219\":0.0,\"231\":0.0,\"232\":0.0,\"233\":0.0,\"237\":0.0,\"238\":0.0,\"245\":0.0,\"249\":0.0,\"250\":0.0,\"251\":0.0,\"252\":0.0,\"253\":0.0,\"255\":0.0,\"299\":0.0,\"300\":0.0304415706,\"302\":0.3509554508,\"303\":0.0493880787,\"322\":0.0,\"350\":0.0,\"356\":0.0,\"364\":0.0,\"366\":0.0,\"367\":0.0,\"368\":0.0,\"373\":0.0,\"374\":0.0,\"392\":0.0,\"394\":0.0,\"395\":0.0,\"396\":0.0,\"397\":0.0,\"398\":0.0,\"399\":0.0,\"400\":0.0,\"402\":0.0,\"403\":0.0,\"404\":0.0,\"405\":0.0,\"406\":0.0,\"407\":0.0,\"512\":0.0288648142,\"513\":0.0169374152,\"514\":0.0360619441,\"515\":0.1191468324,\"517\":0.0406141924,\"518\":0.0393171831,\"520\":0.0043487958,\"526\":0.0538894638,\"530\":0.0356804708,\"534\":0.0737769393,\"536\":0.0284070463,\"633\":0.9610330094,\"724\":0.0,\"726\":0.0,\"739\":0.0552373362,\"949\":0.0118511044,\"950\":0.0045522482,\"1044\":0.0783800507,\"1046\":0.0565852086,\"1047\":0.017522341,\"1054\":0.1078297907,\"1070\":0.0304161391,\"1075\":0.1324729669,\"1094\":0.009587696,\"1097\":0.0094605382,\"1108\":0.0359602179,\"1110\":0.2856726506,\"1122\":0.6022446399,\"1125\":0.1400770017,\"1128\":0.3616112721,\"1130\":0.5021206102,\"1131\":0.2793401936,\"1136\":0.0291445613,\"1158\":0.1298789483,\"1254\":0.0435642527,\"1262\":0.0361891019,\"1272\":0.0440474522,\"1273\":0.0188447818,\"1285\":0.0266268375,\"1287\":0.0372572272,\"1316\":0.0,\"1342\":0.0423181065,\"1344\":0.5481262921,\"1354\":0.0224051994,\"2449\":0.0326795474,\"7436\":8.4182259812,\"7594\":0.7539692934,\"7665\":3.7249089105,\"7692\":2.0412891458,\"7815\":4.2286571402,\"8002\":0.627065837,\"8423\":0.0132244083,\"19681\":0.0363925544,\"34574\":2.4923431948,\"244554\":0.0710303315,\"244557\":0.0761675054,\"244573\":0.0322726425,\"244577\":0.0439202945,\"244620\":0.0464125868,\"244631\":0.0475824383,\"288013\":2.642033324,\"292928\":0.0269065846,\"357563\":2.2869833929,\"357953\":2.4933604569,\"363940\":0.129726359,\"363945\":0.0724036354,\"363992\":0.0243379976,\"363993\":0.0188447818,\"402370\":6.6233177345,\"422686\":2.1750336905,\"794329\":0.0203452435,\"794411\":0.0195568653,\"794433\":0.0202689489,\"818406\":0.0,\"818407\":0.0,\"820987\":0.0327558421,\"824187\":0.1225800922,\"824194\":0.045090146,\"914669\":0.1336936815,\"914670\":0.0643672642,\"914721\":0.0246177447,\"914722\":0.0182852876,\"947055\":0.0,\"994503\":0.5473633454,\"994519\":0.2258830662,\"1019016\":0.0,\"1198062\":0.0744127282,\"1198063\":0.1417554843,\"1287663\":0.0,\"1310251\":0.0,\"1317684\":0.4145851999,\"1318175\":0.0,\"1349133\":0.0,\"1367423\":0.0,\"1371421\":0.0,\"1392504\":0.0,\"1392573\":0.0,\"1394581\":0.0,\"1398340\":0.102387438,\"1398341\":0.0490574684,\"1398388\":0.0259147539,\"1398389\":0.0185396032,\"1398546\":0.0480402063,\"1398690\":0.0218457052,\"1398693\":0.0956735077,\"1401936\":0.0,\"1403621\":0.0,\"1404860\":0.0,\"1406981\":0.0,\"1407003\":0.0,\"1407004\":0.0,\"1407016\":0.0,\"1407104\":0.0,\"1407486\":0.3292877664,\"1407534\":0.0229901252,\"1407540\":0.0250755126,\"1407554\":0.0260673433,\"1407562\":0.0213370741,\"1407587\":0.0540166216,\"1407588\":0.0585180067,\"1407629\":0.0053914895,\"1407636\":0.0053151949,\"1407761\":8.5802504143,\"1407763\":0.3944179773,\"1408880\":1.7214619176,\"1408995\":0.0450392829,\"1414383\":0.0,\"1415617\":0.1037861735,\"1415618\":0.0521855496,\"1415669\":0.0251518073,\"1415671\":0.018717624,\"1419631\":0.0,\"1424121\":0.0,\"1425703\":0.0,\"1428096\":0.0,\"1429395\":0.0,\"1432255\":0.0,\"1432369\":0.0,\"1432700\":0.0,\"1433291\":0.0,\"1433945\":0.0,\"1434874\":0.0,\"1434923\":0.0,\"1437437\":0.0,\"1438548\":0.0,\"1441160\":0.0076040348,\"1442380\":0.3193694602},\"cpu_percent\":{\"1\":0.0,\"2\":0.0,\"3\":0.0,\"4\":0.0,\"6\":0.0,\"8\":0.0,\"9\":0.0,\"10\":0.0,\"11\":0.0,\"12\":0.0,\"13\":0.0,\"14\":0.0,\"15\":0.0,\"16\":0.0,\"17\":0.0,\"19\":0.0,\"20\":0.0,\"21\":0.0,\"22\":0.0,\"23\":0.0,\"24\":0.0,\"26\":0.0,\"27\":0.0,\"28\":0.0,\"29\":0.0,\"30\":0.0,\"31\":0.0,\"33\":0.0,\"34\":0.0,\"35\":0.0,\"36\":0.0,\"37\":0.0,\"38\":0.0,\"40\":0.0,\"41\":0.0,\"42\":0.0,\"43\":0.0,\"44\":0.0,\"45\":0.0,\"47\":0.0,\"48\":0.0,\"49\":0.0,\"50\":0.0,\"51\":0.0,\"52\":0.0,\"54\":0.0,\"55\":0.0,\"56\":0.0,\"57\":0.0,\"58\":0.0,\"59\":0.0,\"61\":0.0,\"62\":0.0,\"63\":0.0,\"64\":0.0,\"65\":0.0,\"66\":0.0,\"68\":0.0,\"69\":0.0,\"70\":0.0,\"71\":0.0,\"72\":0.0,\"73\":0.0,\"75\":0.0,\"76\":0.0,\"77\":0.0,\"78\":0.0,\"79\":0.0,\"80\":0.0,\"82\":0.0,\"83\":0.0,\"84\":0.0,\"85\":0.0,\"86\":0.0,\"87\":0.0,\"89\":0.0,\"90\":0.0,\"91\":0.0,\"92\":0.0,\"93\":0.0,\"94\":0.0,\"96\":0.0,\"97\":0.0,\"98\":0.0,\"99\":0.0,\"100\":0.0,\"101\":0.0,\"102\":0.0,\"103\":0.0,\"104\":0.0,\"105\":0.0,\"106\":0.0,\"126\":0.0,\"127\":0.0,\"128\":0.0,\"129\":0.0,\"130\":0.0,\"131\":0.0,\"132\":0.0,\"135\":0.0,\"136\":0.0,\"138\":0.0,\"140\":0.0,\"149\":0.0,\"150\":0.0,\"151\":0.0,\"152\":0.0,\"153\":0.0,\"158\":0.0,\"159\":0.0,\"160\":0.0,\"171\":0.0,\"176\":0.0,\"177\":0.0,\"178\":0.0,\"180\":0.0,\"188\":0.0,\"202\":0.0,\"204\":0.0,\"206\":0.0,\"207\":0.0,\"208\":0.0,\"209\":0.0,\"210\":0.0,\"211\":0.0,\"212\":0.0,\"213\":0.0,\"214\":0.0,\"215\":0.0,\"216\":0.0,\"217\":0.0,\"218\":0.0,\"219\":0.0,\"231\":0.0,\"232\":0.0,\"233\":0.0,\"237\":0.0,\"238\":0.0,\"245\":0.0,\"249\":0.0,\"250\":0.0,\"251\":0.0,\"252\":0.0,\"253\":0.0,\"255\":0.0,\"299\":0.0,\"300\":0.0,\"302\":0.0,\"303\":0.0,\"322\":0.0,\"350\":0.0,\"356\":0.0,\"364\":0.0,\"366\":0.0,\"367\":0.0,\"368\":0.0,\"373\":0.0,\"374\":0.0,\"392\":0.0,\"394\":0.0,\"395\":0.0,\"396\":0.0,\"397\":0.0,\"398\":0.0,\"399\":0.0,\"400\":0.0,\"402\":0.0,\"403\":0.0,\"404\":0.0,\"405\":0.0,\"406\":0.0,\"407\":0.0,\"512\":0.0,\"513\":0.0,\"514\":0.0,\"515\":0.0,\"517\":0.0,\"518\":0.0,\"520\":0.0,\"526\":0.0,\"530\":0.0,\"534\":0.0,\"536\":0.0,\"633\":0.0,\"724\":0.0,\"726\":0.0,\"739\":0.0,\"949\":0.0,\"950\":0.0,\"1044\":0.0,\"1046\":0.0,\"1047\":0.0,\"1054\":0.0,\"1070\":0.0,\"1075\":0.0,\"1094\":0.0,\"1097\":0.0,\"1108\":0.0,\"1110\":0.0,\"1122\":0.0,\"1125\":0.0,\"1128\":0.0,\"1130\":0.0,\"1131\":0.0,\"1136\":0.0,\"1158\":0.0,\"1254\":0.0,\"1262\":0.0,\"1272\":0.0,\"1273\":0.0,\"1285\":0.0,\"1287\":0.0,\"1316\":0.0,\"1342\":0.0,\"1344\":0.0,\"1354\":0.0,\"2449\":0.0,\"7436\":0.0,\"7594\":0.0,\"7665\":0.0,\"7692\":0.0,\"7815\":0.0,\"8002\":0.0,\"8423\":0.0,\"19681\":0.0,\"34574\":0.0,\"244554\":0.0,\"244557\":0.0,\"244573\":0.0,\"244577\":0.0,\"244620\":0.0,\"244631\":0.0,\"288013\":0.0,\"292928\":0.0,\"357563\":0.0,\"357953\":0.0,\"363940\":0.0,\"363945\":0.0,\"363992\":0.0,\"363993\":0.0,\"402370\":0.0,\"422686\":0.0,\"794329\":0.0,\"794411\":0.0,\"794433\":0.0,\"818406\":0.0,\"818407\":0.0,\"820987\":0.0,\"824187\":0.0,\"824194\":0.0,\"914669\":0.0,\"914670\":0.0,\"914721\":0.0,\"914722\":0.0,\"947055\":0.0,\"994503\":0.0,\"994519\":0.0,\"1019016\":0.0,\"1198062\":0.0,\"1198063\":0.0,\"1287663\":0.0,\"1310251\":0.0,\"1317684\":0.0,\"1318175\":0.0,\"1349133\":0.0,\"1367423\":0.0,\"1371421\":0.0,\"1392504\":0.0,\"1392573\":0.0,\"1394581\":0.0,\"1398340\":0.0,\"1398341\":0.0,\"1398388\":0.0,\"1398389\":0.0,\"1398546\":0.0,\"1398690\":0.0,\"1398693\":0.0,\"1401936\":0.0,\"1403621\":0.0,\"1404860\":0.0,\"1406981\":0.0,\"1407003\":0.0,\"1407004\":0.0,\"1407016\":0.0,\"1407104\":0.0,\"1407486\":0.0,\"1407534\":0.0,\"1407540\":0.0,\"1407554\":0.0,\"1407562\":0.0,\"1407587\":0.0,\"1407588\":0.0,\"1407629\":0.0,\"1407636\":0.0,\"1407761\":0.0,\"1407763\":0.0,\"1408880\":0.0,\"1408995\":0.0,\"1414383\":0.0,\"1415617\":0.0,\"1415618\":0.0,\"1415669\":0.0,\"1415671\":0.0,\"1419631\":0.0,\"1424121\":0.0,\"1425703\":0.0,\"1428096\":0.0,\"1429395\":0.0,\"1432255\":0.0,\"1432369\":0.0,\"1432700\":0.0,\"1433291\":0.0,\"1433945\":0.0,\"1434874\":0.0,\"1434923\":0.0,\"1437437\":0.0,\"1438548\":0.0,\"1441160\":0.0,\"1442380\":0.0}}'"
      ]
     },
     "execution_count": 15,
     "metadata": {},
     "output_type": "execute_result"
    }
   ],
   "source": [
    "json_stats = dataFrame.to_json()\n",
    "json_stats"
   ]
  },
  {
   "cell_type": "code",
   "execution_count": null,
   "id": "63dcb652",
   "metadata": {},
   "outputs": [],
   "source": []
  }
 ],
 "metadata": {
  "kernelspec": {
   "display_name": "Python 3 (ipykernel)",
   "language": "python",
   "name": "python3"
  },
  "language_info": {
   "codemirror_mode": {
    "name": "ipython",
    "version": 3
   },
   "file_extension": ".py",
   "mimetype": "text/x-python",
   "name": "python",
   "nbconvert_exporter": "python",
   "pygments_lexer": "ipython3",
   "version": "3.9.6"
  }
 },
 "nbformat": 4,
 "nbformat_minor": 5
}
